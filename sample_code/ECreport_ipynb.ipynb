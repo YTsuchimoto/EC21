{
  "nbformat": 4,
  "nbformat_minor": 0,
  "metadata": {
    "colab": {
      "name": "ECreport.ipynb のコピー",
      "provenance": [],
      "authorship_tag": "ABX9TyOV0vBNd/4fyCijUXJPCyge",
      "include_colab_link": true
    },
    "kernelspec": {
      "name": "python3",
      "display_name": "Python 3"
    },
    "language_info": {
      "name": "python"
    }
  },
  "cells": [
    {
      "cell_type": "markdown",
      "metadata": {
        "id": "view-in-github",
        "colab_type": "text"
      },
      "source": [
        "<a href=\"https://colab.research.google.com/github/nekokaeru/EC21/blob/main/sample_code/ECreport_ipynb.ipynb\" target=\"_parent\"><img src=\"https://colab.research.google.com/assets/colab-badge.svg\" alt=\"Open In Colab\"/></a>"
      ]
    },
    {
      "cell_type": "markdown",
      "metadata": {
        "id": "p4cmojVk6wDH"
      },
      "source": [
        "Problem1 Answer1"
      ]
    },
    {
      "cell_type": "code",
      "metadata": {
        "colab": {
          "base_uri": "https://localhost:8080/"
        },
        "id": "SJdMg5UK5W2g",
        "outputId": "41fc1d07-3873-45f4-8148-3c5c310ad507"
      },
      "source": [
        "# -*- coding: utf-8 -*-\n",
        "\"\"\"\n",
        "Created on Tue Jun  2 21:59:49 2020\n",
        "\n",
        "@author: mori\n",
        "\"\"\"\n",
        "pnum,sa,sb = list(filter(lambda x:not [y for y in range(2,x) if x%y==0],range(100,1,-1))),[],[]\n",
        "for i in pnum:\n",
        "\tif sum(sa) > sum(sb):\n",
        "\t\tsb.append(i)\n",
        "\telse:\n",
        "\t\tsa.append(i)\n",
        "print(sum(sa)-sum(sb),sa,sb)"
      ],
      "execution_count": null,
      "outputs": [
        {
          "output_type": "stream",
          "text": [
            "0 [97, 79, 71, 61, 59, 43, 41, 29, 23, 13, 11, 3] [89, 83, 73, 67, 53, 47, 37, 31, 19, 17, 7, 5, 2]\n"
          ],
          "name": "stdout"
        }
      ]
    },
    {
      "cell_type": "markdown",
      "metadata": {
        "id": "qrRtyXdI620d"
      },
      "source": [
        "Problem1 Answer2"
      ]
    },
    {
      "cell_type": "code",
      "metadata": {
        "colab": {
          "base_uri": "https://localhost:8080/"
        },
        "id": "7jbkHCc-6qgr",
        "outputId": "c46c7804-9de8-4e2f-fb12-bcc9216ac93b"
      },
      "source": [
        "# -*- coding: utf-8 -*-\n",
        "\"\"\"\n",
        "Created on Tue Jun  2 21:59:49 2020\n",
        "\n",
        "@author: mori\n",
        "\"\"\"\n",
        "\n",
        "import random\n",
        "pnum = list(filter(lambda x:not [y for y in range(2,x) if x%y==0],range(100,1,-1)))\n",
        "while (True):\n",
        "\tsa,sb = [],[]\n",
        "\tfor i in pnum:\n",
        "\t\tif(random.randint(0,1)==1):\n",
        "\t\t\tsa.append(i)\n",
        "\t\telse:\n",
        "\t\t\tsb.append(i)\n",
        "\tif(sum(sa)-sum(sb)==0):\n",
        "\t\tbreak\n",
        "print (sum(sa)-sum(sb),sa,sb)\n"
      ],
      "execution_count": null,
      "outputs": [
        {
          "output_type": "stream",
          "text": [
            "0 [89, 73, 71, 67, 61, 43, 41, 29, 23, 17, 13, 3] [97, 83, 79, 59, 53, 47, 37, 31, 19, 11, 7, 5, 2]\n"
          ],
          "name": "stdout"
        }
      ]
    },
    {
      "cell_type": "markdown",
      "metadata": {
        "id": "qZgNQrj67mBe"
      },
      "source": [
        "Problem2 Answer1"
      ]
    },
    {
      "cell_type": "code",
      "metadata": {
        "colab": {
          "base_uri": "https://localhost:8080/"
        },
        "id": "RqBjFNVr6sWH",
        "outputId": "6b8fd613-0976-4b1f-d61d-e8df169bf9ca"
      },
      "source": [
        "# -*- coding: utf-8 -*-\n",
        "\"\"\"\n",
        "Created on Sun May 31 15:29:30 2020\n",
        "\n",
        "@author: mori\n",
        "\"\"\"\n",
        "import numpy as np\n",
        "from numpy import sin,cos\n",
        "import theano\n",
        "import theano.tensor as T\n",
        "\n",
        "M=10000\n",
        "x=T.dscalar(name=\"x\")\n",
        " \n",
        "S=0.5*((5*cos(2*x)-2)*10*sin(x)-5*sin(2*x)*(10*cos(x)-2))\n",
        "fS=theano.function(inputs=[x],outputs=S)\n",
        "gS=T.grad(cost=S,wrt=x) #Differentiation of S\n",
        "fgS=theano.function(inputs=[x],outputs=gS)\n",
        "\n",
        "ans=np.inf\n",
        "for i in range(0,M):\n",
        "    tmpx=2*np.pi*i/M\n",
        "    tmp=abs(fgS(tmpx))\n",
        "    if(tmp < ans):\n",
        "        ans = tmp\n",
        "        ansx = tmpx\n",
        "\n",
        "if(ans<0.01): #extremum 極値と判定\n",
        "    print(fS(ansx))\n",
        "  "
      ],
      "execution_count": null,
      "outputs": [
        {
          "output_type": "stream",
          "text": [
            "36.30921866906125\n"
          ],
          "name": "stdout"
        }
      ]
    },
    {
      "cell_type": "markdown",
      "metadata": {
        "id": "jOD3wTg971z6"
      },
      "source": [
        "Problem2 Answer2 sympy version"
      ]
    },
    {
      "cell_type": "code",
      "metadata": {
        "colab": {
          "base_uri": "https://localhost:8080/"
        },
        "id": "0ShQmsQN71m7",
        "outputId": "8b7e151e-e8c1-4beb-84a9-2731da89f653"
      },
      "source": [
        "# -*- coding: utf-8 -*-\n",
        "\"\"\"\n",
        "Created on Sun May 31 15:29:30 2020\n",
        "\n",
        "@author: mori\n",
        "\"\"\"\n",
        "\n",
        "import sympy \n",
        "from sympy import cos,sin,sqrt\n",
        "\n",
        "x=sympy.Symbol(\"x\") #cos(x)\n",
        "xs=sqrt(1-x*x) #sin(x)->cos(x)\n",
        "xs2=2*x*(sqrt(1-x*x)) #sin(2x)->cos(x)\n",
        "xc2=2*x*x-1 #cos(2x)->cos(x)\n",
        "\n",
        "\n",
        "S=((5*xc2-2)*10*xs-5*xs2*(10*x-2))/2\n",
        "ansx=sympy.solve(sympy.diff(S),x)[0] #Solution of Differentiation of S\n",
        "ans=abs(S.subs(x,ansx))\n",
        "print(ans,ans.evalf())\n"
      ],
      "execution_count": null,
      "outputs": [
        {
          "output_type": "stream",
          "text": [
            "75*sqrt(15)/8 36.3092188706945\n"
          ],
          "name": "stdout"
        }
      ]
    },
    {
      "cell_type": "markdown",
      "metadata": {
        "id": "XVMN3o2n8E9u"
      },
      "source": [
        "Problem2 Answer3 theano version"
      ]
    },
    {
      "cell_type": "code",
      "metadata": {
        "colab": {
          "base_uri": "https://localhost:8080/"
        },
        "id": "LLBCTiGF8M1f",
        "outputId": "aa200ecd-5a86-4e8e-e2d8-43b2cf137338"
      },
      "source": [
        "# -*- coding: utf-8 -*-\n",
        "\"\"\"\n",
        "Created on Sun May 31 15:29:30 2020\n",
        "\n",
        "@author: mori\n",
        "\"\"\"\n",
        "import numpy as np\n",
        "from numpy import sin,cos\n",
        "import theano\n",
        "import theano.tensor as T\n",
        "\n",
        "M=10000\n",
        "x=T.dscalar(name=\"x\")\n",
        " \n",
        "S=0.5*((5*cos(2*x)-2)*10*sin(x)-5*sin(2*x)*(10*cos(x)-2))\n",
        "fS=theano.function(inputs=[x],outputs=S)\n",
        "gS=T.grad(cost=S,wrt=x) #Differentiation of S\n",
        "fgS=theano.function(inputs=[x],outputs=gS)\n",
        "\n",
        "ans=np.inf\n",
        "for i in range(0,M):\n",
        "    tmpx=2*np.pi*i/M\n",
        "    tmp=abs(fgS(tmpx))\n",
        "    if(tmp < ans):\n",
        "        ans = tmp\n",
        "        ansx = tmpx\n",
        "\n",
        "if(ans<0.01): #extremum 極値と判定\n",
        "    print(fS(ansx))"
      ],
      "execution_count": null,
      "outputs": [
        {
          "output_type": "stream",
          "text": [
            "36.30921866906125\n"
          ],
          "name": "stdout"
        }
      ]
    }
  ]
}