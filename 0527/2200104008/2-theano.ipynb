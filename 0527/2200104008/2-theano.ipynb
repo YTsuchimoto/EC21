{
  "nbformat": 4,
  "nbformat_minor": 0,
  "metadata": {
    "colab": {
      "name": "3.ipynb",
      "provenance": []
    },
    "kernelspec": {
      "name": "python3",
      "display_name": "Python 3"
    },
    "language_info": {
      "name": "python"
    }
  },
  "cells": [
    {
      "cell_type": "code",
      "metadata": {
        "id": "zvXBzQvxgUk5"
      },
      "source": [
        "import numpy\n",
        "import theano\n",
        "import theano.tensor as T"
      ],
      "execution_count": 23,
      "outputs": []
    },
    {
      "cell_type": "code",
      "metadata": {
        "id": "OvMauGdrHDfr"
      },
      "source": [
        "t = T.dscalar(\"t\")\n",
        "x1 = 5*T.cos(2*t) - 2\n",
        "y1 = 5*T.sin(2*t)\n",
        "x2 = 10*T.cos(t) - 2\n",
        "y2 = 10*T.sin(t)\n",
        "\n",
        "# ヘロンの公式\n",
        "a = T.sqrt(x1**2 + y1**2)\n",
        "b = T.sqrt(x2**2 + y2**2)\n",
        "c = T.sqrt((x1-x2)**2 + (y1-y2)**2)\n",
        "s = (a+b+c)/2\n",
        "S = T.sqrt(s * (s-a) * (s-b) * (s-c))\n",
        "\n",
        "# tで微分\n",
        "dS = T.grad(S, t)\n",
        "\n",
        "f = theano.function([t], dS)\n",
        "g = theano.function([t], S)\n",
        "\n",
        "\n",
        "# 0 から 2*pi をdiv等分して、傾きが0になってそうなところを探す\n",
        "\"\"\"\n",
        "div = 100000\n",
        "L = []\n",
        "for i in range(div):\n",
        "    if abs(f(np.pi / div * i)) < 0.005:\n",
        "        L.append(g(np.pi / div * i))\n",
        "print(len(L)) # どの程度の個数見つかったか確認\n",
        "print(max(L))\n",
        "\"\"\"\n",
        "# と思ったけど、これやるんだったら直接探せばいい…？\n",
        "div = 100000\n",
        "ans = -1000\n",
        "for i in range(div):\n",
        "    ans = max(g((np.pi / div * i)), ans)\n"
      ],
      "execution_count": 48,
      "outputs": []
    },
    {
      "cell_type": "markdown",
      "metadata": {
        "id": "H0U6va2LMAp0"
      },
      "source": [
        "求める最大値は"
      ]
    },
    {
      "cell_type": "code",
      "metadata": {
        "colab": {
          "base_uri": "https://localhost:8080/"
        },
        "id": "EOj6j42VHpK2",
        "outputId": "132ef2bd-5546-4f3b-e87e-7caa5cd42a55"
      },
      "source": [
        "print(ans)"
      ],
      "execution_count": 49,
      "outputs": [
        {
          "output_type": "stream",
          "text": [
            "36.30921887061101\n"
          ],
          "name": "stdout"
        }
      ]
    }
  ]
}