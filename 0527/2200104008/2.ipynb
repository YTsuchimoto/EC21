{
  "nbformat": 4,
  "nbformat_minor": 0,
  "metadata": {
    "colab": {
      "name": "2.ipynb",
      "provenance": []
    },
    "kernelspec": {
      "name": "python3",
      "display_name": "Python 3"
    },
    "language_info": {
      "name": "python"
    }
  },
  "cells": [
    {
      "cell_type": "code",
      "metadata": {
        "colab": {
          "base_uri": "https://localhost:8080/",
          "height": 71
        },
        "id": "zvXBzQvxgUk5",
        "outputId": "c39dae3d-ac60-4333-f082-e3a4cb2d855a"
      },
      "source": [
        "from sympy import *\n",
        "\n",
        "t, x1, y1, x2, y2  = symbols(\"t x1 y1 x2 y2\")\n",
        "# 点A(2,0)が原点に来るように平行移動した後\n",
        "x1 = 5*cos(2*t)-2\n",
        "y1 = 5*sin(2*t)\n",
        "x2 = 10*cos(t)-2\n",
        "y2 = 10*sin(t)\n",
        "\n",
        "# ヘロンの公式\n",
        "a = sqrt(x1**2 + y1**2)\n",
        "b = sqrt(x2**2 + y2**2)\n",
        "c = sqrt((x1-x2)**2 + (y1-y2)**2)\n",
        "s = (a + b + c) / 2\n",
        "S = sqrt(s * (s-a) * (s-b) * (s-c))\n",
        "\n",
        "# tで微分\n",
        "dS = diff(S, t)\n",
        "dS = dS.simplify()\n",
        "dS\n"
      ],
      "execution_count": 132,
      "outputs": [
        {
          "output_type": "execute_result",
          "data": {
            "image/png": "[encoded data removed]",
            "text/latex": "$\\displaystyle \\frac{\\left(- 35 \\cos{\\left(t \\right)} + 10 \\cos{\\left(2 t \\right)}\\right) \\sqrt{200 \\sin^{6}{\\left(t \\right)} - 304 \\sin^{4}{\\left(t \\right)} - 28 \\sin^{2}{\\left(t \\right)} \\cos{\\left(t \\right)} + \\frac{331 \\sin^{2}{\\left(t \\right)}}{2} - \\frac{25 \\sin^{2}{\\left(3 t \\right)}}{2}}}{- 7 \\sin{\\left(t \\right)} + \\sin{\\left(2 t \\right)}}$",
            "text/plain": [
              "                                ______________________________________________\n",
              "                               ╱                                              \n",
              "                              ╱         6             4            2          \n",
              "(-35⋅cos(t) + 10⋅cos(2⋅t))⋅  ╱   200⋅sin (t) - 304⋅sin (t) - 28⋅sin (t)⋅cos(t)\n",
              "                           ╲╱                                                 \n",
              "──────────────────────────────────────────────────────────────────────────────\n",
              "                                            -7⋅sin(t) + sin(2⋅t)              \n",
              "\n",
              "______________________________\n",
              "          2            2      \n",
              "   331⋅sin (t)   25⋅sin (3⋅t) \n",
              " + ─────────── - ──────────── \n",
              "        2             2       \n",
              "──────────────────────────────\n",
              "                              "
            ]
          },
          "metadata": {
            "tags": []
          },
          "execution_count": 132
        }
      ]
    },
    {
      "cell_type": "code",
      "metadata": {
        "colab": {
          "base_uri": "https://localhost:8080/",
          "height": 68
        },
        "id": "KifY10lttTuW",
        "outputId": "284b8ced-8121-4f19-b96e-6a400e38b753"
      },
      "source": [
        "L = solve(Eq(dS,0).expand(trig=True), t)\n",
        "L = [l for l in L if l.is_real]\n",
        "L"
      ],
      "execution_count": 133,
      "outputs": [
        {
          "output_type": "execute_result",
          "data": {
            "image/png": "[encoded data removed]",
            "text/latex": "$\\displaystyle \\left[ - 2 \\operatorname{atan}{\\left(\\frac{\\sqrt{15}}{3} \\right)}, \\  2 \\operatorname{atan}{\\left(\\frac{\\sqrt{15}}{3} \\right)}\\right]$",
            "text/plain": [
              "⎡       ⎛√15⎞        ⎛√15⎞⎤\n",
              "⎢-2⋅atan⎜───⎟, 2⋅atan⎜───⎟⎥\n",
              "⎣       ⎝ 3 ⎠        ⎝ 3 ⎠⎦"
            ]
          },
          "metadata": {
            "tags": []
          },
          "execution_count": 133
        }
      ]
    },
    {
      "cell_type": "code",
      "metadata": {
        "id": "-Reb7di2hCj2"
      },
      "source": [
        "ans = -1000\n",
        "for l in L:\n",
        "    Sval = S.subs(t, l).simplify()\n",
        "    ans = Max(ans, Sval)"
      ],
      "execution_count": 134,
      "outputs": []
    },
    {
      "cell_type": "markdown",
      "metadata": {
        "id": "Vh4olvWhB6vs"
      },
      "source": [
        "求める最大値は"
      ]
    },
    {
      "cell_type": "code",
      "metadata": {
        "colab": {
          "base_uri": "https://localhost:8080/",
          "height": 56
        },
        "id": "YiTiYbtkCC_o",
        "outputId": "a653a1cd-27da-45fd-933e-5b5ebc76ac0d"
      },
      "source": [
        "ans"
      ],
      "execution_count": 135,
      "outputs": [
        {
          "output_type": "execute_result",
          "data": {
            "image/png": "[encoded data removed]",
            "text/latex": "$\\displaystyle \\frac{75 \\sqrt{15}}{8}$",
            "text/plain": [
              "75⋅√15\n",
              "──────\n",
              "  8   "
            ]
          },
          "metadata": {
            "tags": []
          },
          "execution_count": 135
        }
      ]
    }
  ]
}